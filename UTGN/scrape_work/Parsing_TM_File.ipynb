{
 "cells": [
  {
   "cell_type": "code",
   "execution_count": 1,
   "metadata": {
    "ExecuteTime": {
     "end_time": "2019-07-25T08:58:03.686123Z",
     "start_time": "2019-07-25T08:58:03.683647Z"
    }
   },
   "outputs": [],
   "source": [
    "base_dir = \"input_output/\""
   ]
  },
  {
   "cell_type": "code",
   "execution_count": 10,
   "metadata": {
    "ExecuteTime": {
     "end_time": "2019-07-25T09:03:47.774053Z",
     "start_time": "2019-07-25T09:03:47.769883Z"
    }
   },
   "outputs": [],
   "source": [
    "f = open(base_dir + \"tm_score_70#4ART_1_A.txt\", \"r\").read()"
   ]
  },
  {
   "cell_type": "code",
   "execution_count": 12,
   "metadata": {
    "ExecuteTime": {
     "end_time": "2019-07-25T09:03:56.833244Z",
     "start_time": "2019-07-25T09:03:56.829610Z"
    }
   },
   "outputs": [
    {
     "name": "stdout",
     "output_type": "stream",
     "text": [
      "\n",
      " *****************************************************************************\n",
      " *                                 TM-SCORE                                  *\n",
      " * A scoring function to assess the similarity of protein structures         *\n",
      " * Based on statistics:                                                      *\n",
      " *       0.0 < TM-score < 0.17, random structural similarity                 *\n",
      " *       0.5 < TM-score < 1.00, in about the same fold                       *\n",
      " * Reference: Yang Zhang and Jeffrey Skolnick, Proteins 2004 57: 702-710     *\n",
      " * For comments, please email to: zhng@umich.edu                             *\n",
      " *****************************************************************************\n",
      "\n",
      "Structure1: pdb_files/  Length=  279\n",
      "Structure2: pdb_files/  Length=  237 (by which all scores are normalized)\n",
      "Number of residues in common=  237\n",
      "RMSD of  the common residues=    9.159\n",
      "\n",
      "TM-score    = 0.3852  (d0= 5.71)\n",
      "MaxSub-score= 0.0897  (d0= 3.50)\n",
      "GDT-TS-score= 0.1973 %(d<1)=0.0211 %(d<2)=0.0675 %(d<4)=0.1603 %(d<8)=0.5401\n",
      "GDT-HA-score= 0.0643 %(d<0.5)=0.0084 %(d<1)=0.0211 %(d<2)=0.0675 %(d<4)=0.1603\n",
      "\n",
      " -------- rotation matrix to rotate Chain-1 to Chain-2 ------\n",
      " i          t(i)         u(i,1)         u(i,2)         u(i,3)\n",
      " 1     50.7881172721   0.9305379482  -0.2674623794   0.2501259735\n",
      " 2      4.1852660877  -0.3019006118  -0.9468992868   0.1106244153\n",
      " 3     46.9193856099   0.2072562366  -0.1784534008  -0.9618727754\n",
      "\n",
      "Superposition in the TM-score: Length(d<5.0)= 50  RMSD=  3.53\n",
      "(\":\" denotes the residue pairs of distance < 5.0 Angstrom)\n",
      "MGEKITEEREFQSISEIPEEEIDATNDEEKLADIVENEIEKEIRKSKTRKCKTIENFYYYILRDGKIYPASDYDIEVEKGKRSANDIYAFVETDVTRDFDEFLFDIDYGLPSISDILKFYLEKAGFRIANEVPTPNLKYYIHAVVEFGEDRPQYLAVNIYDIDSLARALRIPQIVEQKLGNKPRTITADEFNDIERIVAEEQPILAGYTYDEALRIPYHYYVDHNNSFKDDALKIAHAYLQLFPTPYQVCYEWKARWFNKIDCLKLERLKPSSHHHHHH\n",
      "                                    : :                 ::::             :: :            :          :             :             ::::        ::         : ::::::::::         :                :::             ::::::            ::        :::       :::                   :::           \n",
      "---------------------IDATNDEEKLADIVENEIEKEIRK--------IENFYYYILRDGKIYPASDYDIEVEKGKRSANDIYAFVETDVTRDFDEFLFDIDYGLPSISDILKFYLEKAGFRIANEVPTPNLKYYIHAVVEF----PQYLAVNIYDIDSLARALRIPQIVEQKLGNKPRTITADEFNDIERIVAEEQPILAGYTYDEALRIPYHYYVDHNNSFKDDALKIAHAYLQLFPTPYQVCYEWKARWFNKIDCLKLERLK---------\n",
      "123456789012345678901234567890123456789012345678901234567890123456789012345678901234567890123456789012345678901234567890123456789012345678901234567890123456789012345678901234567890123456789012345678901234567890123456789012345678901234567890123456789012345678901234567890123456789\n",
      "\n",
      "\n"
     ]
    }
   ],
   "source": [
    "print(f)"
   ]
  },
  {
   "cell_type": "code",
   "execution_count": 18,
   "metadata": {
    "ExecuteTime": {
     "end_time": "2019-07-25T09:05:11.905592Z",
     "start_time": "2019-07-25T09:05:11.899763Z"
    }
   },
   "outputs": [
    {
     "data": {
      "text/plain": [
       "9.159"
      ]
     },
     "execution_count": 18,
     "metadata": {},
     "output_type": "execute_result"
    }
   ],
   "source": [
    "float(f.split('\\n')[14].split()[-1])"
   ]
  },
  {
   "cell_type": "code",
   "execution_count": 21,
   "metadata": {
    "ExecuteTime": {
     "end_time": "2019-07-25T09:05:49.495405Z",
     "start_time": "2019-07-25T09:05:49.489792Z"
    }
   },
   "outputs": [
    {
     "data": {
      "text/plain": [
       "0.3852"
      ]
     },
     "execution_count": 21,
     "metadata": {},
     "output_type": "execute_result"
    }
   ],
   "source": [
    "float(f.split('\\n')[16].split()[2])"
   ]
  },
  {
   "cell_type": "code",
   "execution_count": null,
   "metadata": {},
   "outputs": [],
   "source": []
  }
 ],
 "metadata": {
  "kernelspec": {
   "display_name": "Python 3",
   "language": "python",
   "name": "python3"
  },
  "language_info": {
   "codemirror_mode": {
    "name": "ipython",
    "version": 3
   },
   "file_extension": ".py",
   "mimetype": "text/x-python",
   "name": "python",
   "nbconvert_exporter": "python",
   "pygments_lexer": "ipython3",
   "version": "3.7.3"
  },
  "latex_envs": {
   "LaTeX_envs_menu_present": true,
   "autoclose": false,
   "autocomplete": true,
   "bibliofile": "biblio.bib",
   "cite_by": "apalike",
   "current_citInitial": 1,
   "eqLabelWithNumbers": true,
   "eqNumInitial": 1,
   "hotkeys": {
    "equation": "Ctrl-E",
    "itemize": "Ctrl-I"
   },
   "labels_anchors": false,
   "latex_user_defs": false,
   "report_style_numbering": false,
   "user_envs_cfg": false
  },
  "toc": {
   "base_numbering": 1,
   "nav_menu": {},
   "number_sections": true,
   "sideBar": true,
   "skip_h1_title": false,
   "title_cell": "Table of Contents",
   "title_sidebar": "Contents",
   "toc_cell": false,
   "toc_position": {},
   "toc_section_display": true,
   "toc_window_display": false
  },
  "varInspector": {
   "cols": {
    "lenName": 16,
    "lenType": 16,
    "lenVar": 40
   },
   "kernels_config": {
    "python": {
     "delete_cmd_postfix": "",
     "delete_cmd_prefix": "del ",
     "library": "var_list.py",
     "varRefreshCmd": "print(var_dic_list())"
    },
    "r": {
     "delete_cmd_postfix": ") ",
     "delete_cmd_prefix": "rm(",
     "library": "var_list.r",
     "varRefreshCmd": "cat(var_dic_list()) "
    }
   },
   "types_to_exclude": [
    "module",
    "function",
    "builtin_function_or_method",
    "instance",
    "_Feature"
   ],
   "window_display": false
  }
 },
 "nbformat": 4,
 "nbformat_minor": 2
}
