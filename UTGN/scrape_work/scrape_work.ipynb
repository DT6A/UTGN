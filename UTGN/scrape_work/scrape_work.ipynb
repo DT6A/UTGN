{
 "cells": [
  {
   "cell_type": "code",
   "execution_count": null,
   "metadata": {
    "ExecuteTime": {
     "end_time": "2019-07-18T07:10:26.266546Z",
     "start_time": "2019-07-18T07:10:23.956566Z"
    }
   },
   "outputs": [],
   "source": [
    "import tensorflow as tf"
   ]
  },
  {
   "cell_type": "code",
   "execution_count": null,
   "metadata": {
    "ExecuteTime": {
     "end_time": "2019-06-24T07:59:37.566043Z",
     "start_time": "2019-06-24T07:59:37.559783Z"
    }
   },
   "outputs": [],
   "source": [
    "class switch(object):\n",
    "    \"\"\"Switch statement for Python, based on recipe from Python Cookbook.\"\"\"\n",
    "\n",
    "    def __init__(self, value):\n",
    "        self.value = value\n",
    "        self.fall = False\n",
    "\n",
    "    def __iter__(self):\n",
    "        \"\"\"Return the match method once, then stop\"\"\"\n",
    "        yield self.match\n",
    "        raise StopIteration\n",
    "    \n",
    "    def match(self, *args):\n",
    "        \"\"\"Indicate whether or not to enter a case suite\"\"\"\n",
    "        if self.fall or not args:\n",
    "            return True\n",
    "        elif self.value in args: # changed for v1.5\n",
    "            self.fall = True\n",
    "            return True\n",
    "        else:\n",
    "            return False"
   ]
  },
  {
   "cell_type": "code",
   "execution_count": null,
   "metadata": {
    "ExecuteTime": {
     "end_time": "2019-06-24T08:05:28.629950Z",
     "start_time": "2019-06-24T08:05:28.613196Z"
    }
   },
   "outputs": [],
   "source": [
    "# test_dict = {\"hi\": 5, \"hey\": 3}\n",
    "# test_dict = [\"hi\", \"hey\"]\n",
    "test_dict = \"hi\"\n",
    "\n",
    "for case in switch(test_dict):\n",
    "    print(case(\"hi\"))\n",
    "    if case('dfsd'):\n",
    "        print(55)\n",
    "    elif case('hi'):\n",
    "        print(23423)"
   ]
  },
  {
   "cell_type": "code",
   "execution_count": null,
   "metadata": {
    "ExecuteTime": {
     "end_time": "2019-06-25T01:16:02.620911Z",
     "start_time": "2019-06-25T01:16:02.462672Z"
    }
   },
   "outputs": [],
   "source": [
    "# https://stats.stackexchange.com/questions/330176/what-is-the-output-of-a-tf-nn-dynamic-rnn\n",
    "tf.reset_default_graph()\n",
    "n_steps = 2\n",
    "n_inputs = 3\n",
    "n_neurons = 5\n",
    "\n",
    "X = tf.placeholder(dtype=tf.float32, shape=[None, n_steps, n_inputs])\n",
    "seq_length = tf.placeholder(tf.int32, [None])\n",
    "\n",
    "basic_cell = tf.nn.rnn_cell.BasicRNNCell(num_units=n_neurons)\n",
    "outputs, states = tf.nn.dynamic_rnn(basic_cell, X, sequence_length=seq_length, dtype=tf.float32)\n",
    "\n",
    "X_batch = np.array([\n",
    "  # t = 0      t = 1\n",
    "  [[0, 1, 2], [9, 8, 7]], # instance 0\n",
    "  [[3, 4, 5], [0, 0, 0]], # instance 1\n",
    "  [[6, 7, 8], [6, 5, 4]], # instance 2\n",
    "  [[9, 0, 1], [3, 2, 1]], # instance 3\n",
    "])\n",
    "seq_length_batch = np.array([2, 1, 2, 2])\n"
   ]
  },
  {
   "cell_type": "code",
   "execution_count": null,
   "metadata": {
    "ExecuteTime": {
     "end_time": "2019-06-25T01:16:03.966640Z",
     "start_time": "2019-06-25T01:16:03.791563Z"
    }
   },
   "outputs": [],
   "source": [
    "with tf.Session() as sess:\n",
    "    sess.run(tf.global_variables_initializer())\n",
    "    outputs_val, states_val = sess.run([outputs, states],\n",
    "                                       feed_dict={\n",
    "                                           X: X_batch,\n",
    "                                           seq_length: seq_length_batch\n",
    "                                       })\n",
    "\n",
    "    print(outputs_val.shape)\n",
    "    print()\n",
    "    print(states_val.shape)"
   ]
  },
  {
   "cell_type": "code",
   "execution_count": null,
   "metadata": {
    "ExecuteTime": {
     "end_time": "2019-07-18T07:10:38.116972Z",
     "start_time": "2019-07-18T07:10:38.098298Z"
    }
   },
   "outputs": [],
   "source": [
    "tf.reset_default_graph()\n",
    "# x = tf.constant([[1., 1.], [2., 2.]])\n",
    "x = tf.random.uniform((4,5,6,7))\n",
    "y = tf.reduce_mean(x,axis=1)\n",
    "z = tf.transpose(x, perm=[0,1,3,2])\n",
    "with tf.Session() as sess:\n",
    "    sess.run(tf.global_variables_initializer())\n",
    "    print(x.shape)\n",
    "    print(y.shape)\n",
    "    print(z.shape)\n",
    "    print(x)\n",
    "# x.shape"
   ]
  },
  {
   "cell_type": "code",
   "execution_count": null,
   "metadata": {
    "ExecuteTime": {
     "end_time": "2019-06-28T01:23:11.562573Z",
     "start_time": "2019-06-28T01:23:11.552585Z"
    }
   },
   "outputs": [],
   "source": [
    "computing = {\n",
    "    'functions_on_devices': {'/cpu:0': ['point_to_coordinate']},\n",
    "    'default_device': ''\n",
    "    \n",
    "}\n",
    "{k: computing[k] for k in ('functions_on_devices', 'default_device')}"
   ]
  },
  {
   "cell_type": "code",
   "execution_count": null,
   "metadata": {
    "ExecuteTime": {
     "end_time": "2019-06-28T04:03:17.956549Z",
     "start_time": "2019-06-28T04:03:17.910264Z"
    }
   },
   "outputs": [],
   "source": [
    "len(\"TENLYFQSMGLRTVEMKKGPTDSLGISIAGGVGSPLGDVPIFIAMMHPTGVAAQTQKLRVGDRIVTICGTSTEGMTHTQAVNLLKNASGSIEMQVVAGGDVSETSV\")"
   ]
  },
  {
   "cell_type": "code",
   "execution_count": null,
   "metadata": {
    "ExecuteTime": {
     "end_time": "2019-06-28T04:03:46.416195Z",
     "start_time": "2019-06-28T04:03:46.410102Z"
    }
   },
   "outputs": [],
   "source": [
    "len(\"----------++++++++----++++++++++++++++++++++++++++++++++++++++++++++++++++++++++++++++++++++++++++--------\")"
   ]
  },
  {
   "cell_type": "code",
   "execution_count": null,
   "metadata": {
    "ExecuteTime": {
     "end_time": "2019-07-30T05:13:40.927798Z",
     "start_time": "2019-07-30T05:13:40.924375Z"
    }
   },
   "outputs": [],
   "source": [
    "base_dir = \"input_output/\"\n",
    "sum1 = \"summary1.txt\"\n",
    "sum2 = \"summary2.txt\"\n",
    "casp = \"casp12.txt\"\n",
    "outfile = \"scatter_plot_data.txt\""
   ]
  },
  {
   "cell_type": "code",
   "execution_count": null,
   "metadata": {
    "ExecuteTime": {
     "end_time": "2019-07-30T03:34:22.949706Z",
     "start_time": "2019-07-30T03:34:22.935231Z"
    }
   },
   "outputs": [],
   "source": [
    "def create_eval_table(file1, file2, casp_map, outfile):\n",
    "    \"\"\"Parse two summary files and create a table\n",
    "    \n",
    "    Args:\n",
    "        file1, file2: summary files to parse\n",
    "        casp_map: a file that maps protein name to FM or TBM in CASP\n",
    "        outfile: file to write to\n",
    "    \n",
    "    Returns:\n",
    "        None\n",
    "    \"\"\"\n",
    "\n",
    "    def parse_file(file):\n",
    "        return open(file, \"r\").read().split('\\n')[1:][:-1]\n",
    "\n",
    "    def out_line(i1, i2, i3, i4, i5, i6):\n",
    "        line = \"{}\\t{}\\t{}\\t{}\\t{}\\t{}\\n\".format(i1, i2, i3, i4, i5, i6)\n",
    "\n",
    "        return line\n",
    "\n",
    "    f1 = parse_file(file1)\n",
    "    f2 = parse_file(file2)\n",
    "    average1 = f1[-1].split('\\t')\n",
    "    average2 = f2[-1].split('\\t')\n",
    "    f1 = f1[:-1]\n",
    "    f2 = f2[:-1]\n",
    "\n",
    "    out = open(outfile, \"w\")\n",
    "    out.write(\n",
    "        out_line('TMScore1', 'TMScore2', 'RMSD1', 'RMSD2', 'Name',\n",
    "                 'Casp_classification'))\n",
    "\n",
    "    casp_map = parse_file(casp_map)\n",
    "    casp_dict = dict()\n",
    "    for line in casp_map:\n",
    "        row_values = line.split()\n",
    "        casp_dict['T0' + row_values[0]] = row_values[1]\n",
    "\n",
    "    for i, line in enumerate(f1):\n",
    "        row_values1 = line.split('\\t')\n",
    "        row_values2 = f2[i].split('\\t')\n",
    "\n",
    "        line = out_line(row_values1[1], row_values2[1], row_values1[2],\n",
    "                        row_values2[2], row_values1[0],\n",
    "                        casp_dict[row_values1[0]])\n",
    "        out.write(line)\n",
    "\n",
    "    out.write(\n",
    "        out_line(average1[1], average2[1], average1[2], average2[2],\n",
    "                 average1[0], 'None'))\n",
    "\n",
    "\n",
    "create_eval_table(base_dir + sum1, base_dir + sum2, base_dir + casp,\n",
    "                  base_dir + outfile)"
   ]
  },
  {
   "cell_type": "code",
   "execution_count": null,
   "metadata": {
    "ExecuteTime": {
     "end_time": "2019-07-30T05:13:50.805933Z",
     "start_time": "2019-07-30T05:13:49.695641Z"
    }
   },
   "outputs": [],
   "source": [
    "import seaborn as sns\n",
    "# sns.set()\n",
    "import matplotlib.pyplot as plt\n",
    "import pandas as pd"
   ]
  },
  {
   "cell_type": "code",
   "execution_count": null,
   "metadata": {
    "ExecuteTime": {
     "end_time": "2019-07-30T05:13:52.184648Z",
     "start_time": "2019-07-30T05:13:52.181910Z"
    }
   },
   "outputs": [],
   "source": [
    "# ax = sns.scatterplot(x=\"total_bill\", y=\"tip\", data=tips)"
   ]
  },
  {
   "cell_type": "code",
   "execution_count": null,
   "metadata": {
    "ExecuteTime": {
     "end_time": "2019-07-30T06:54:09.845324Z",
     "start_time": "2019-07-30T06:54:09.811181Z"
    }
   },
   "outputs": [],
   "source": [
    "def create_df(file1, file2, casp_map):\n",
    "    \"\"\"Parse two summary files and create a table\n",
    "    \n",
    "    Args:\n",
    "        file1, file2: summary files to parse\n",
    "        casp_map: a file that maps protein name to FM or TBM in CASP\n",
    "        outfile: file to write to\n",
    "    \n",
    "    Returns:\n",
    "        None\n",
    "    \"\"\"\n",
    "\n",
    "    def parse_file(file):\n",
    "        return open(file, \"r\").read().split('\\n')[1:][:-1]\n",
    "\n",
    "    f1 = parse_file(file1)[:-1]\n",
    "    f2 = parse_file(file2)[:-1]\n",
    "\n",
    "    tmscores1 = []\n",
    "    tmscores2 = []\n",
    "    rmsd1 = []\n",
    "    rmsd2 = []\n",
    "    names = []\n",
    "    casp_classification = []\n",
    "\n",
    "    casp_map = parse_file(casp_map)\n",
    "    casp_dict = dict()\n",
    "    for line in casp_map:\n",
    "        row_values = line.split()\n",
    "        casp_dict['T0' + row_values[0]] = row_values[1]\n",
    "\n",
    "    for i, line in enumerate(f1):\n",
    "        row_values1 = line.split('\\t')\n",
    "        row_values2 = f2[i].split('\\t')\n",
    "        \n",
    "        tmscores1.append(float(row_values1[1]))\n",
    "        tmscores2.append(float(row_values2[1]))\n",
    "        rmsd1.append(float(row_values1[2]))\n",
    "        rmsd2.append(float(row_values2[2]))\n",
    "        names.append(row_values1[0])\n",
    "        casp_classification.append(casp_dict[row_values1[0]])\n",
    "        \n",
    "    df = pd.DataFrame({\n",
    "        'TMScore1': tmscores1,\n",
    "        'TMScore2': tmscores2, \n",
    "        'RMSD1': rmsd1, \n",
    "        'RMSD2': rmsd2, \n",
    "        'Name': names,\n",
    "        'Casp_classification': casp_classification\n",
    "    })\n",
    "    \n",
    "    df['TMScore1'] = df['TMScore1'].round(2)\n",
    "    df['TMScore2'] = df['TMScore2'].round(2)\n",
    "    \n",
    "    df['RMSD1'] = df['RMSD1'].round(1)\n",
    "    df['RMSD2'] = df['RMSD2'].round(1)\n",
    "    return df\n",
    "\n",
    "df = create_df(base_dir + sum1, base_dir + sum2, base_dir + casp)"
   ]
  },
  {
   "cell_type": "code",
   "execution_count": null,
   "metadata": {
    "ExecuteTime": {
     "end_time": "2019-07-30T06:54:21.299586Z",
     "start_time": "2019-07-30T06:54:21.285484Z"
    }
   },
   "outputs": [],
   "source": [
    "df.head()"
   ]
  },
  {
   "cell_type": "code",
   "execution_count": null,
   "metadata": {
    "ExecuteTime": {
     "end_time": "2019-07-30T07:11:16.761144Z",
     "start_time": "2019-07-30T07:11:16.496780Z"
    }
   },
   "outputs": [],
   "source": [
    "plt.figure(figsize=(8, 8))\n",
    "# plt.ylim(0, 0.30)\n",
    "# plt.xlim(0, 0.30)"
   ]
  },
  {
   "cell_type": "code",
   "execution_count": null,
   "metadata": {
    "ExecuteTime": {
     "end_time": "2019-07-30T06:38:06.519122Z",
     "start_time": "2019-07-30T06:38:06.081011Z"
    }
   },
   "outputs": [],
   "source": [
    "grid = sns.JointGrid(df.TMScore1, df.TMScore2, space=0, size=8, ratio=10)\n",
    "grid.set_axis_labels(\"Model 1\", \"Model 2\")\n",
    "grid.plot_joint(plt.scatter, color=\"black\")\n",
    "plt.plot([0, 0.3], [0, 0.3], linewidth=1, linestyle='--')"
   ]
  },
  {
   "cell_type": "code",
   "execution_count": null,
   "metadata": {
    "ExecuteTime": {
     "end_time": "2019-07-30T06:40:55.501044Z",
     "start_time": "2019-07-30T06:40:55.498166Z"
    }
   },
   "outputs": [],
   "source": [
    "# tm_plot.savefig(base_dir + 'test_plot.eps', format='eps', dpi=1000)"
   ]
  },
  {
   "cell_type": "code",
   "execution_count": null,
   "metadata": {
    "ExecuteTime": {
     "end_time": "2019-07-30T06:40:55.924374Z",
     "start_time": "2019-07-30T06:40:55.921780Z"
    }
   },
   "outputs": [],
   "source": [
    "# fig = tm_plot.get_figure()\n",
    "# fig.savefig(base_dir + 'test_plot.eps', format='eps', dpi=1000)"
   ]
  },
  {
   "cell_type": "code",
   "execution_count": null,
   "metadata": {
    "ExecuteTime": {
     "end_time": "2019-07-30T06:40:56.439007Z",
     "start_time": "2019-07-30T06:40:56.245657Z"
    }
   },
   "outputs": [],
   "source": [
    "grid.savefig(base_dir + 'test_plot.eps', format='eps', dpi=1000)"
   ]
  },
  {
   "cell_type": "code",
   "execution_count": 8,
   "metadata": {
    "ExecuteTime": {
     "end_time": "2019-08-01T07:55:46.384485Z",
     "start_time": "2019-08-01T07:55:46.380994Z"
    }
   },
   "outputs": [],
   "source": [
    "base_dir = 'input_output/'\n"
   ]
  },
  {
   "cell_type": "code",
   "execution_count": 9,
   "metadata": {
    "ExecuteTime": {
     "end_time": "2019-08-01T07:55:46.561269Z",
     "start_time": "2019-08-01T07:55:46.557843Z"
    }
   },
   "outputs": [],
   "source": [
    "import pandas as pd"
   ]
  },
  {
   "cell_type": "code",
   "execution_count": 10,
   "metadata": {
    "ExecuteTime": {
     "end_time": "2019-08-01T07:55:46.754812Z",
     "start_time": "2019-08-01T07:55:46.715159Z"
    }
   },
   "outputs": [
    {
     "ename": "IndexError",
     "evalue": "list index out of range",
     "output_type": "error",
     "traceback": [
      "\u001b[0;31m---------------------------------------------------------------------------\u001b[0m",
      "\u001b[0;31mIndexError\u001b[0m                                Traceback (most recent call last)",
      "\u001b[0;32m<ipython-input-10-130921791f83>\u001b[0m in \u001b[0;36m<module>\u001b[0;34m\u001b[0m\n\u001b[0;32m----> 1\u001b[0;31m \u001b[0mdf\u001b[0m \u001b[0;34m=\u001b[0m \u001b[0mpd\u001b[0m\u001b[0;34m.\u001b[0m\u001b[0mread_excel\u001b[0m\u001b[0;34m(\u001b[0m\u001b[0mbase_dir\u001b[0m \u001b[0;34m+\u001b[0m \u001b[0;34m'synlethdb.xlsx'\u001b[0m\u001b[0;34m)\u001b[0m\u001b[0;34m\u001b[0m\u001b[0;34m\u001b[0m\u001b[0m\n\u001b[0m",
      "\u001b[0;32m/Library/Frameworks/Python.framework/Versions/3.7/lib/python3.7/site-packages/pandas/util/_decorators.py\u001b[0m in \u001b[0;36mwrapper\u001b[0;34m(*args, **kwargs)\u001b[0m\n\u001b[1;32m    186\u001b[0m                 \u001b[0;32melse\u001b[0m\u001b[0;34m:\u001b[0m\u001b[0;34m\u001b[0m\u001b[0;34m\u001b[0m\u001b[0m\n\u001b[1;32m    187\u001b[0m                     \u001b[0mkwargs\u001b[0m\u001b[0;34m[\u001b[0m\u001b[0mnew_arg_name\u001b[0m\u001b[0;34m]\u001b[0m \u001b[0;34m=\u001b[0m \u001b[0mnew_arg_value\u001b[0m\u001b[0;34m\u001b[0m\u001b[0;34m\u001b[0m\u001b[0m\n\u001b[0;32m--> 188\u001b[0;31m             \u001b[0;32mreturn\u001b[0m \u001b[0mfunc\u001b[0m\u001b[0;34m(\u001b[0m\u001b[0;34m*\u001b[0m\u001b[0margs\u001b[0m\u001b[0;34m,\u001b[0m \u001b[0;34m**\u001b[0m\u001b[0mkwargs\u001b[0m\u001b[0;34m)\u001b[0m\u001b[0;34m\u001b[0m\u001b[0;34m\u001b[0m\u001b[0m\n\u001b[0m\u001b[1;32m    189\u001b[0m         \u001b[0;32mreturn\u001b[0m \u001b[0mwrapper\u001b[0m\u001b[0;34m\u001b[0m\u001b[0;34m\u001b[0m\u001b[0m\n\u001b[1;32m    190\u001b[0m     \u001b[0;32mreturn\u001b[0m \u001b[0m_deprecate_kwarg\u001b[0m\u001b[0;34m\u001b[0m\u001b[0;34m\u001b[0m\u001b[0m\n",
      "\u001b[0;32m/Library/Frameworks/Python.framework/Versions/3.7/lib/python3.7/site-packages/pandas/util/_decorators.py\u001b[0m in \u001b[0;36mwrapper\u001b[0;34m(*args, **kwargs)\u001b[0m\n\u001b[1;32m    186\u001b[0m                 \u001b[0;32melse\u001b[0m\u001b[0;34m:\u001b[0m\u001b[0;34m\u001b[0m\u001b[0;34m\u001b[0m\u001b[0m\n\u001b[1;32m    187\u001b[0m                     \u001b[0mkwargs\u001b[0m\u001b[0;34m[\u001b[0m\u001b[0mnew_arg_name\u001b[0m\u001b[0;34m]\u001b[0m \u001b[0;34m=\u001b[0m \u001b[0mnew_arg_value\u001b[0m\u001b[0;34m\u001b[0m\u001b[0;34m\u001b[0m\u001b[0m\n\u001b[0;32m--> 188\u001b[0;31m             \u001b[0;32mreturn\u001b[0m \u001b[0mfunc\u001b[0m\u001b[0;34m(\u001b[0m\u001b[0;34m*\u001b[0m\u001b[0margs\u001b[0m\u001b[0;34m,\u001b[0m \u001b[0;34m**\u001b[0m\u001b[0mkwargs\u001b[0m\u001b[0;34m)\u001b[0m\u001b[0;34m\u001b[0m\u001b[0;34m\u001b[0m\u001b[0m\n\u001b[0m\u001b[1;32m    189\u001b[0m         \u001b[0;32mreturn\u001b[0m \u001b[0mwrapper\u001b[0m\u001b[0;34m\u001b[0m\u001b[0;34m\u001b[0m\u001b[0m\n\u001b[1;32m    190\u001b[0m     \u001b[0;32mreturn\u001b[0m \u001b[0m_deprecate_kwarg\u001b[0m\u001b[0;34m\u001b[0m\u001b[0;34m\u001b[0m\u001b[0m\n",
      "\u001b[0;32m/Library/Frameworks/Python.framework/Versions/3.7/lib/python3.7/site-packages/pandas/io/excel.py\u001b[0m in \u001b[0;36mread_excel\u001b[0;34m(io, sheet_name, header, names, index_col, parse_cols, usecols, squeeze, dtype, engine, converters, true_values, false_values, skiprows, nrows, na_values, keep_default_na, verbose, parse_dates, date_parser, thousands, comment, skip_footer, skipfooter, convert_float, mangle_dupe_cols, **kwds)\u001b[0m\n\u001b[1;32m    373\u001b[0m         \u001b[0mconvert_float\u001b[0m\u001b[0;34m=\u001b[0m\u001b[0mconvert_float\u001b[0m\u001b[0;34m,\u001b[0m\u001b[0;34m\u001b[0m\u001b[0;34m\u001b[0m\u001b[0m\n\u001b[1;32m    374\u001b[0m         \u001b[0mmangle_dupe_cols\u001b[0m\u001b[0;34m=\u001b[0m\u001b[0mmangle_dupe_cols\u001b[0m\u001b[0;34m,\u001b[0m\u001b[0;34m\u001b[0m\u001b[0;34m\u001b[0m\u001b[0m\n\u001b[0;32m--> 375\u001b[0;31m         **kwds)\n\u001b[0m\u001b[1;32m    376\u001b[0m \u001b[0;34m\u001b[0m\u001b[0m\n\u001b[1;32m    377\u001b[0m \u001b[0;34m\u001b[0m\u001b[0m\n",
      "\u001b[0;32m/Library/Frameworks/Python.framework/Versions/3.7/lib/python3.7/site-packages/pandas/io/excel.py\u001b[0m in \u001b[0;36mparse\u001b[0;34m(self, sheet_name, header, names, index_col, usecols, squeeze, converters, true_values, false_values, skiprows, nrows, na_values, parse_dates, date_parser, thousands, comment, skipfooter, convert_float, mangle_dupe_cols, **kwds)\u001b[0m\n\u001b[1;32m    716\u001b[0m                                   \u001b[0mconvert_float\u001b[0m\u001b[0;34m=\u001b[0m\u001b[0mconvert_float\u001b[0m\u001b[0;34m,\u001b[0m\u001b[0;34m\u001b[0m\u001b[0;34m\u001b[0m\u001b[0m\n\u001b[1;32m    717\u001b[0m                                   \u001b[0mmangle_dupe_cols\u001b[0m\u001b[0;34m=\u001b[0m\u001b[0mmangle_dupe_cols\u001b[0m\u001b[0;34m,\u001b[0m\u001b[0;34m\u001b[0m\u001b[0;34m\u001b[0m\u001b[0m\n\u001b[0;32m--> 718\u001b[0;31m                                   **kwds)\n\u001b[0m\u001b[1;32m    719\u001b[0m \u001b[0;34m\u001b[0m\u001b[0m\n\u001b[1;32m    720\u001b[0m     \u001b[0;34m@\u001b[0m\u001b[0mproperty\u001b[0m\u001b[0;34m\u001b[0m\u001b[0;34m\u001b[0m\u001b[0m\n",
      "\u001b[0;32m/Library/Frameworks/Python.framework/Versions/3.7/lib/python3.7/site-packages/pandas/io/excel.py\u001b[0m in \u001b[0;36mparse\u001b[0;34m(self, sheet_name, header, names, index_col, usecols, squeeze, dtype, true_values, false_values, skiprows, nrows, na_values, verbose, parse_dates, date_parser, thousands, comment, skipfooter, convert_float, mangle_dupe_cols, **kwds)\u001b[0m\n\u001b[1;32m    522\u001b[0m                 \u001b[0msheet\u001b[0m \u001b[0;34m=\u001b[0m \u001b[0mself\u001b[0m\u001b[0;34m.\u001b[0m\u001b[0mbook\u001b[0m\u001b[0;34m.\u001b[0m\u001b[0msheet_by_name\u001b[0m\u001b[0;34m(\u001b[0m\u001b[0masheetname\u001b[0m\u001b[0;34m)\u001b[0m\u001b[0;34m\u001b[0m\u001b[0;34m\u001b[0m\u001b[0m\n\u001b[1;32m    523\u001b[0m             \u001b[0;32melse\u001b[0m\u001b[0;34m:\u001b[0m  \u001b[0;31m# assume an integer if not a string\u001b[0m\u001b[0;34m\u001b[0m\u001b[0;34m\u001b[0m\u001b[0m\n\u001b[0;32m--> 524\u001b[0;31m                 \u001b[0msheet\u001b[0m \u001b[0;34m=\u001b[0m \u001b[0mself\u001b[0m\u001b[0;34m.\u001b[0m\u001b[0mbook\u001b[0m\u001b[0;34m.\u001b[0m\u001b[0msheet_by_index\u001b[0m\u001b[0;34m(\u001b[0m\u001b[0masheetname\u001b[0m\u001b[0;34m)\u001b[0m\u001b[0;34m\u001b[0m\u001b[0;34m\u001b[0m\u001b[0m\n\u001b[0m\u001b[1;32m    525\u001b[0m \u001b[0;34m\u001b[0m\u001b[0m\n\u001b[1;32m    526\u001b[0m             \u001b[0mdata\u001b[0m \u001b[0;34m=\u001b[0m \u001b[0;34m[\u001b[0m\u001b[0;34m]\u001b[0m\u001b[0;34m\u001b[0m\u001b[0;34m\u001b[0m\u001b[0m\n",
      "\u001b[0;32m/Library/Frameworks/Python.framework/Versions/3.7/lib/python3.7/site-packages/xlrd/book.py\u001b[0m in \u001b[0;36msheet_by_index\u001b[0;34m(self, sheetx)\u001b[0m\n\u001b[1;32m    464\u001b[0m         \u001b[0;34m:\u001b[0m\u001b[0mreturns\u001b[0m\u001b[0;34m:\u001b[0m \u001b[0mA\u001b[0m \u001b[0;34m:\u001b[0m\u001b[0;32mclass\u001b[0m\u001b[0;34m:\u001b[0m\u001b[0;31m`\u001b[0m\u001b[0;34m~\u001b[0m\u001b[0mxlrd\u001b[0m\u001b[0;34m.\u001b[0m\u001b[0msheet\u001b[0m\u001b[0;34m.\u001b[0m\u001b[0mSheet\u001b[0m\u001b[0;31m`\u001b[0m\u001b[0;34m.\u001b[0m\u001b[0;34m\u001b[0m\u001b[0;34m\u001b[0m\u001b[0m\n\u001b[1;32m    465\u001b[0m         \"\"\"\n\u001b[0;32m--> 466\u001b[0;31m         \u001b[0;32mreturn\u001b[0m \u001b[0mself\u001b[0m\u001b[0;34m.\u001b[0m\u001b[0m_sheet_list\u001b[0m\u001b[0;34m[\u001b[0m\u001b[0msheetx\u001b[0m\u001b[0;34m]\u001b[0m \u001b[0;32mor\u001b[0m \u001b[0mself\u001b[0m\u001b[0;34m.\u001b[0m\u001b[0mget_sheet\u001b[0m\u001b[0;34m(\u001b[0m\u001b[0msheetx\u001b[0m\u001b[0;34m)\u001b[0m\u001b[0;34m\u001b[0m\u001b[0;34m\u001b[0m\u001b[0m\n\u001b[0m\u001b[1;32m    467\u001b[0m \u001b[0;34m\u001b[0m\u001b[0m\n\u001b[1;32m    468\u001b[0m     \u001b[0;32mdef\u001b[0m \u001b[0msheet_by_name\u001b[0m\u001b[0;34m(\u001b[0m\u001b[0mself\u001b[0m\u001b[0;34m,\u001b[0m \u001b[0msheet_name\u001b[0m\u001b[0;34m)\u001b[0m\u001b[0;34m:\u001b[0m\u001b[0;34m\u001b[0m\u001b[0;34m\u001b[0m\u001b[0m\n",
      "\u001b[0;31mIndexError\u001b[0m: list index out of range"
     ]
    }
   ],
   "source": [
    "df = pd.read_excel(base_dir + 'synlethdb.xlsx')"
   ]
  },
  {
   "cell_type": "code",
   "execution_count": null,
   "metadata": {
    "ExecuteTime": {
     "end_time": "2019-08-01T07:54:37.905191Z",
     "start_time": "2019-08-01T07:54:37.258411Z"
    }
   },
   "outputs": [],
   "source": [
    "!pip install xlrd"
   ]
  },
  {
   "cell_type": "code",
   "execution_count": 14,
   "metadata": {
    "ExecuteTime": {
     "end_time": "2019-08-01T07:58:31.487277Z",
     "start_time": "2019-08-01T07:58:31.482829Z"
    }
   },
   "outputs": [],
   "source": [
    "f = open(base_dir + 'sophia.txt',\"r+\").read()"
   ]
  },
  {
   "cell_type": "code",
   "execution_count": 25,
   "metadata": {
    "ExecuteTime": {
     "end_time": "2019-08-01T08:01:14.693951Z",
     "start_time": "2019-08-01T08:01:14.690534Z"
    }
   },
   "outputs": [],
   "source": [
    "def str_to_int(x):\n",
    "    try:\n",
    "        return int(x)\n",
    "    except ValueError:\n",
    "        return x"
   ]
  },
  {
   "cell_type": "code",
   "execution_count": 26,
   "metadata": {
    "ExecuteTime": {
     "end_time": "2019-08-01T08:01:14.853151Z",
     "start_time": "2019-08-01T08:01:14.843758Z"
    }
   },
   "outputs": [
    {
     "data": {
      "text/plain": [
       "[24040035,\n",
       " 21822123,\n",
       " 27461052,\n",
       " 27375368,\n",
       " 19034564,\n",
       " 18336191,\n",
       " 21643007,\n",
       " 29866747,\n",
       " 23578175,\n",
       " 16972754,\n",
       " 30875717,\n",
       " 29797327,\n",
       " 24928852,\n",
       " 21603316,\n",
       " 29899826,\n",
       " 16210249,\n",
       " 22101337,\n",
       " 22678161,\n",
       " 25292178,\n",
       " 29610289,\n",
       " 25232030,\n",
       " 19720857,\n",
       " 15047861,\n",
       " 20811722,\n",
       " 12582246,\n",
       " 26283727,\n",
       " 30705406,\n",
       " 24006065,\n",
       " 18413751,\n",
       " 27364904,\n",
       " 20227038,\n",
       " 25261849,\n",
       " 16038621,\n",
       " 19015239,\n",
       " 24218601,\n",
       " 25686104,\n",
       " 22190494,\n",
       " 20406170,\n",
       " 'Pubmed_id',\n",
       " 22010575,\n",
       " 30333913,\n",
       " 26603525,\n",
       " 21321066,\n",
       " 21144036,\n",
       " 22955508,\n",
       " 21814623,\n",
       " 16326109,\n",
       " 19878585,\n",
       " 21706479,\n",
       " 27958275,\n",
       " 17568563,\n",
       " 23419720,\n",
       " 21978374,\n",
       " 26938910,\n",
       " 25139395,\n",
       " 24927325,\n",
       " 20568893,\n",
       " 20376879,\n",
       " 25103497,\n",
       " 11481475,\n",
       " 23204129,\n",
       " 18794128,\n",
       " 16177181,\n",
       " 24809668,\n",
       " 21737609,\n",
       " 22073281,\n",
       " 17005722,\n",
       " 21980305,\n",
       " 19525400,\n",
       " 20615389,\n",
       " 17121906,\n",
       " 11504908,\n",
       " 20700484,\n",
       " 23948487,\n",
       " 24317580,\n",
       " 22120667,\n",
       " 23536721,\n",
       " 5564254,\n",
       " 25558828,\n",
       " 19847166,\n",
       " 20860770,\n",
       " 24425774,\n",
       " 20858840,\n",
       " 25171417,\n",
       " 24377575,\n",
       " 20191379,\n",
       " 30266755,\n",
       " 30323337,\n",
       " 25955731,\n",
       " 22412391,\n",
       " 21777194,\n",
       " 25199829,\n",
       " 12833149,\n",
       " 26919240,\n",
       " 24625059,\n",
       " 17638870,\n",
       " 19608766,\n",
       " 23684925,\n",
       " 20498641,\n",
       " 24830942,\n",
       " 21552262,\n",
       " 23653048,\n",
       " 24362250,\n",
       " 16341243,\n",
       " 23020131,\n",
       " 30314968,\n",
       " 25483185,\n",
       " 26748709,\n",
       " 24025726,\n",
       " 17638885,\n",
       " 21487605,\n",
       " 28847989,\n",
       " 22674894,\n",
       " 28701475,\n",
       " 30018082,\n",
       " 22962271,\n",
       " 30241603,\n",
       " 29628435,\n",
       " 24362264,\n",
       " 26318585,\n",
       " 30323292,\n",
       " 24618813,\n",
       " 16287996,\n",
       " 24052078,\n",
       " 23825154,\n",
       " 27655641,\n",
       " 21335596,\n",
       " 19053880,\n",
       " 29688721,\n",
       " 17699718,\n",
       " 23333522,\n",
       " 20823145,\n",
       " 11231155,\n",
       " 30773340,\n",
       " 28468827,\n",
       " 23949216,\n",
       " 27902462,\n",
       " 19901546,\n",
       " 25777964,\n",
       " 23714734,\n",
       " 23833190,\n",
       " 26219258,\n",
       " 29232553,\n",
       " 25524627,\n",
       " 29764852,\n",
       " 24444383,\n",
       " 22430210,\n",
       " 23352126,\n",
       " 16778209,\n",
       " 17483353,\n",
       " 28756516,\n",
       " 22030621,\n",
       " 23308052,\n",
       " 23347679,\n",
       " 26755646,\n",
       " 26881434,\n",
       " 26563132,\n",
       " 24043274,\n",
       " 28462496,\n",
       " 25297967,\n",
       " 26028035,\n",
       " 20530668,\n",
       " 23440494,\n",
       " 24442637,\n",
       " 23470565,\n",
       " 23370117,\n",
       " 22738915,\n",
       " 23500081,\n",
       " 25337581,\n",
       " 30863489,\n",
       " 17114291,\n",
       " 20008853,\n",
       " 23761041,\n",
       " 29522753,\n",
       " 18644989,\n",
       " 22471589,\n",
       " 27831832,\n",
       " 27798842,\n",
       " 21052095,\n",
       " 29533782,\n",
       " 17568748,\n",
       " 26024389,\n",
       " 23258740,\n",
       " 23016858,\n",
       " 21632463,\n",
       " 29743557,\n",
       " 21399881,\n",
       " 29451980,\n",
       " 23071597,\n",
       " 24413150,\n",
       " 30890549,\n",
       " 24520176,\n",
       " 16585163,\n",
       " 19244105,\n",
       " 19931410,\n",
       " 26220590,\n",
       " 23275151,\n",
       " 16862181,\n",
       " 23803853,\n",
       " 21499307,\n",
       " 23352416,\n",
       " 24893165,\n",
       " 22430491,\n",
       " 24745479,\n",
       " 23566222,\n",
       " 16287090,\n",
       " 21300766,\n",
       " 20442202,\n",
       " 30625329,\n",
       " 30718506,\n",
       " 22864477,\n",
       " 29358035,\n",
       " 28756770,\n",
       " 30686591,\n",
       " 25185187,\n",
       " 19218431,\n",
       " 21242281,\n",
       " 'new',\n",
       " 18202802,\n",
       " 23872584,\n",
       " 18832051,\n",
       " 23864164,\n",
       " 21480320,\n",
       " 20196847,\n",
       " 25134459,\n",
       " 22948716,\n",
       " 24893124,\n",
       " 24662823,\n",
       " 20233726,\n",
       " 24002644,\n",
       " 30871030,\n",
       " 20832020,\n",
       " 17292828,\n",
       " 19225112,\n",
       " 20124459,\n",
       " 17927446,\n",
       " 24847381,\n",
       " 20334671,\n",
       " 20049735,\n",
       " 24819061,\n",
       " 20609353,\n",
       " 30420612,\n",
       " 23070002,\n",
       " 21278454,\n",
       " 21424107,\n",
       " 25310643,\n",
       " 18471277,\n",
       " 21205831,\n",
       " 24927813,\n",
       " 28423600,\n",
       " 24954871,\n",
       " 30682083,\n",
       " 21813754,\n",
       " 16982329,\n",
       " 17318223,\n",
       " 22952453,\n",
       " 24403857,\n",
       " 20505340,\n",
       " 25564254,\n",
       " 22377908,\n",
       " 18281480,\n",
       " 21543344,\n",
       " 25965342,\n",
       " 28829765,\n",
       " 21964066,\n",
       " 22802621,\n",
       " 18769115,\n",
       " 20858866,\n",
       " 22875744,\n",
       " 15064723,\n",
       " 23443316,\n",
       " 26047463,\n",
       " 27418135,\n",
       " 19075675,\n",
       " 21441464,\n",
       " 20941496,\n",
       " 23651857,\n",
       " 18566224,\n",
       " 17000754,\n",
       " 22808036,\n",
       " 24947187,\n",
       " 19782705,\n",
       " 24848258,\n",
       " 11313881,\n",
       " 26427375,\n",
       " 24362251,\n",
       " 23564760,\n",
       " 17019715,\n",
       " 23980094,\n",
       " 24727455,\n",
       " 25531068,\n",
       " 29915391,\n",
       " 22613949,\n",
       " 23382697,\n",
       " 16652354,\n",
       " 30496141,\n",
       " 17168665,\n",
       " 24735547,\n",
       " 23416984,\n",
       " 3965078,\n",
       " 22562176,\n",
       " 29232766,\n",
       " 21163924,\n",
       " 21487606,\n",
       " 18059185,\n",
       " 21922195,\n",
       " 20616055,\n",
       " 20643922,\n",
       " 16603719,\n",
       " 16443928,\n",
       " 19802012,\n",
       " 21487248,\n",
       " 16135799,\n",
       " 26174628,\n",
       " 29251726,\n",
       " 28319113,\n",
       " 20724597,\n",
       " 17616632,\n",
       " 22618028,\n",
       " 24934408,\n",
       " 21430111,\n",
       " 21821475,\n",
       " 25136073,\n",
       " 19366795,\n",
       " 20940401,\n",
       " 24381593,\n",
       " 20959493,\n",
       " 28967863,\n",
       " 25026298,\n",
       " 20309933,\n",
       " 21031151,\n",
       " 21430781,\n",
       " 30645202,\n",
       " 23377825,\n",
       " 25749378,\n",
       " 25334017,\n",
       " 24889936,\n",
       " 30125975,\n",
       " 22962324,\n",
       " 21258400,\n",
       " 23595577,\n",
       " 29057925,\n",
       " 22395065,\n",
       " 24556366,\n",
       " 24239348,\n",
       " 23703322,\n",
       " 20160494,\n",
       " 23728082,\n",
       " 23836560,\n",
       " 18388863,\n",
       " 22192458,\n",
       " 18794879,\n",
       " 10446979,\n",
       " 19362586,\n",
       " 22695120,\n",
       " 20145144,\n",
       " 21986497,\n",
       " 'new_crispr',\n",
       " 22710759,\n",
       " 17504138,\n",
       " 14726685,\n",
       " 28415695,\n",
       " 27758891,\n",
       " 19490893,\n",
       " 28319085,\n",
       " 24466340,\n",
       " 23555162,\n",
       " 22778154,\n",
       " 22341439,\n",
       " 22412880,\n",
       " 22933245,\n",
       " 19654313,\n",
       " 30297533,\n",
       " 26114963,\n",
       " 22575700,\n",
       " 22172489,\n",
       " 20675184,\n",
       " 22157079,\n",
       " 20570903,\n",
       " 22906755,\n",
       " 25568088,\n",
       " 21464044,\n",
       " 22573234,\n",
       " 21903591,\n",
       " 23505488,\n",
       " 30107174,\n",
       " 23824739,\n",
       " 16652144,\n",
       " 21285153,\n",
       " 27438146,\n",
       " 23100467,\n",
       " 30097580,\n",
       " 15829967,\n",
       " 20976469,\n",
       " 21933891,\n",
       " 28138034,\n",
       " 29180466,\n",
       " 23532334,\n",
       " 23212831,\n",
       " 22611192,\n",
       " 17251932,\n",
       " 19490892,\n",
       " 21142664,\n",
       " 20609354,\n",
       " 17094803,\n",
       " 22015278,\n",
       " 24771642,\n",
       " 23402310,\n",
       " 26312880,\n",
       " 17669606,\n",
       " 24189100,\n",
       " 18948595,\n",
       " 30101194,\n",
       " 19717643,\n",
       " 28691904,\n",
       " 23115424,\n",
       " 24631446,\n",
       " 23530058,\n",
       " 19918932,\n",
       " 20696794,\n",
       " 15144957,\n",
       " 24563204,\n",
       " 11784874,\n",
       " 21306997,\n",
       " 23729362,\n",
       " 18327707,\n",
       " 26918941,\n",
       " 20978158,\n",
       " 21368455,\n",
       " 20924112,\n",
       " 20706288,\n",
       " 24240700,\n",
       " 20370681,\n",
       " 19047146,\n",
       " 25495526,\n",
       " 25519225,\n",
       " 20049736,\n",
       " 18568365,\n",
       " 29203911,\n",
       " 22385509,\n",
       " 19825992,\n",
       " 20415061,\n",
       " 23011180,\n",
       " 30401714,\n",
       " 21143913,\n",
       " 19519883,\n",
       " 23803850,\n",
       " 18049476,\n",
       " 27308548,\n",
       " 21098704,\n",
       " 20164690,\n",
       " 25341047,\n",
       " 22660439,\n",
       " 29898385,\n",
       " 20728441,\n",
       " 20101233,\n",
       " 23792647,\n",
       " 22698399]"
      ]
     },
     "execution_count": 26,
     "metadata": {},
     "output_type": "execute_result"
    }
   ],
   "source": [
    "list(map(str_to_int, list(set(f.split()))))"
   ]
  },
  {
   "cell_type": "code",
   "execution_count": null,
   "metadata": {},
   "outputs": [],
   "source": []
  }
 ],
 "metadata": {
  "kernelspec": {
   "display_name": "Python 3",
   "language": "python",
   "name": "python3"
  },
  "language_info": {
   "codemirror_mode": {
    "name": "ipython",
    "version": 3
   },
   "file_extension": ".py",
   "mimetype": "text/x-python",
   "name": "python",
   "nbconvert_exporter": "python",
   "pygments_lexer": "ipython3",
   "version": "3.7.3"
  },
  "latex_envs": {
   "LaTeX_envs_menu_present": true,
   "autoclose": false,
   "autocomplete": true,
   "bibliofile": "biblio.bib",
   "cite_by": "apalike",
   "current_citInitial": 1,
   "eqLabelWithNumbers": true,
   "eqNumInitial": 1,
   "hotkeys": {
    "equation": "Ctrl-E",
    "itemize": "Ctrl-I"
   },
   "labels_anchors": false,
   "latex_user_defs": false,
   "report_style_numbering": false,
   "user_envs_cfg": false
  },
  "toc": {
   "base_numbering": 1,
   "nav_menu": {},
   "number_sections": true,
   "sideBar": true,
   "skip_h1_title": false,
   "title_cell": "Table of Contents",
   "title_sidebar": "Contents",
   "toc_cell": false,
   "toc_position": {},
   "toc_section_display": true,
   "toc_window_display": false
  },
  "varInspector": {
   "cols": {
    "lenName": 16,
    "lenType": 16,
    "lenVar": 40
   },
   "kernels_config": {
    "python": {
     "delete_cmd_postfix": "",
     "delete_cmd_prefix": "del ",
     "library": "var_list.py",
     "varRefreshCmd": "print(var_dic_list())"
    },
    "r": {
     "delete_cmd_postfix": ") ",
     "delete_cmd_prefix": "rm(",
     "library": "var_list.r",
     "varRefreshCmd": "cat(var_dic_list()) "
    }
   },
   "types_to_exclude": [
    "module",
    "function",
    "builtin_function_or_method",
    "instance",
    "_Feature"
   ],
   "window_display": false
  }
 },
 "nbformat": 4,
 "nbformat_minor": 2
}
