{
 "cells": [
  {
   "cell_type": "code",
   "execution_count": 1,
   "metadata": {
    "ExecuteTime": {
     "end_time": "2019-07-22T02:34:22.534150Z",
     "start_time": "2019-07-22T02:34:19.619388Z"
    }
   },
   "outputs": [],
   "source": [
    "import tensorflow as tf\n",
    "from Bio.PDB.PDBParser import PDBParser\n",
    "from Bio.PDB.Atom import Atom\n",
    "from Bio.PDB.Residue import Residue\n",
    "from Bio.PDB.Chain import Chain\n",
    "from Bio.PDB.Model import Model\n",
    "from Bio.PDB.Structure import Structure\n",
    "from Bio.PDB import PDBIO\n",
    "import numpy as np\n",
    "from ast import literal_eval"
   ]
  },
  {
   "cell_type": "code",
   "execution_count": 2,
   "metadata": {
    "ExecuteTime": {
     "end_time": "2019-07-22T02:34:22.554849Z",
     "start_time": "2019-07-22T02:34:22.550640Z"
    }
   },
   "outputs": [],
   "source": [
    "base_dir = \"input_output/\"\n",
    "input_dir = \"testing/\"\n",
    "pred_dir = \"outputsTesting/\"\n",
    "NUM_DIMENSIONS = 3"
   ]
  },
  {
   "cell_type": "code",
   "execution_count": 56,
   "metadata": {
    "ExecuteTime": {
     "end_time": "2019-07-19T11:21:53.441893Z",
     "start_time": "2019-07-19T11:21:53.436288Z"
    }
   },
   "outputs": [],
   "source": [
    "AA_LETTERS = {\n",
    "    'A': 'ALA',\n",
    "    'R': 'ARG',\n",
    "    'N': 'ASN',\n",
    "    'D': 'ASP',\n",
    "    'C': 'CYS',\n",
    "    'E': 'GLU',\n",
    "    'Q': 'GLN',\n",
    "    'G': 'GLY',\n",
    "    'H': 'HIS',\n",
    "    'I': 'ILE',\n",
    "    'L': 'LEU',\n",
    "    'K': 'LYS',\n",
    "    'M': 'MET',\n",
    "    'F': 'PHE',\n",
    "    'P': 'PRO',\n",
    "    'S': 'SER',\n",
    "    'T': 'THR',\n",
    "    'W': 'TRP',\n",
    "    'Y': 'TYR',\n",
    "    'V': 'VAL'\n",
    "}"
   ]
  },
  {
   "cell_type": "code",
   "execution_count": 45,
   "metadata": {
    "ExecuteTime": {
     "end_time": "2019-07-19T11:11:58.440443Z",
     "start_time": "2019-07-19T11:11:58.431342Z"
    }
   },
   "outputs": [],
   "source": [
    "class Protein:\n",
    "    \"\"\"Stores amino acid sequence and structure.\n",
    "\n",
    "    Attributes:\n",
    "        id_: name of protein\n",
    "        primary: string of amino acid sequence\n",
    "        actual_tertiary: np array\n",
    "        mask: np array of 1 and 0s\n",
    "        pred_tertiary: np array\n",
    "    \"\"\"\n",
    "\n",
    "    _aa_dict = {\n",
    "        'A': '0',\n",
    "        'C': '1',\n",
    "        'D': '2',\n",
    "        'E': '3',\n",
    "        'F': '4',\n",
    "        'G': '5',\n",
    "        'H': '6',\n",
    "        'I': '7',\n",
    "        'K': '8',\n",
    "        'L': '9',\n",
    "        'M': '10',\n",
    "        'N': '11',\n",
    "        'P': '12',\n",
    "        'Q': '13',\n",
    "        'R': '14',\n",
    "        'S': '15',\n",
    "        'T': '16',\n",
    "        'V': '17',\n",
    "        'W': '18',\n",
    "        'Y': '19'\n",
    "    }\n",
    "    _mask_dict = {'-': '0', '+': '1'}\n",
    "    _aa_dict = dict((v, k) for k, v in _aa_dict.items())\n",
    "\n",
    "    def __init__(self, id_, primary, actual_tertiary, mask, pred_tertiary):\n",
    "        self.id_ = id_\n",
    "        self.primary = primary\n",
    "        self.actual_tertiary = actual_tertiary\n",
    "        self.pred_tertiary = pred_tertiary\n",
    "        self.mask = mask\n",
    "        self.int_to_aa()\n",
    "\n",
    "    def int_to_aa(self):\n",
    "        integers = list(self.primary.astype('str'))\n",
    "        aa = \"\".join([self._aa_dict[integer] for integer in integers])\n",
    "        self.primary = aa"
   ]
  },
  {
   "cell_type": "code",
   "execution_count": 3,
   "metadata": {
    "ExecuteTime": {
     "end_time": "2019-07-22T02:34:29.458595Z",
     "start_time": "2019-07-22T02:34:29.454419Z"
    }
   },
   "outputs": [],
   "source": [
    "def read_tertiary_file(path):\n",
    "    \"\"\"Read .tertiary file\"\"\"\n",
    "\n",
    "    coords = np.transpose(np.loadtxt(path))\n",
    "\n",
    "    return coords"
   ]
  },
  {
   "cell_type": "code",
   "execution_count": 5,
   "metadata": {
    "ExecuteTime": {
     "end_time": "2019-07-22T02:36:49.417142Z",
     "start_time": "2019-07-22T02:36:49.408800Z"
    }
   },
   "outputs": [
    {
     "data": {
      "text/plain": [
       "array([[    0.        ,     0.        ,     0.        ],\n",
       "       [  -99.12168121,    74.59438324,    76.60613251],\n",
       "       [ -240.68289185,    32.3781929 ,    39.43859863],\n",
       "       ...,\n",
       "       [-1055.63903809, 14394.14550781, 13731.828125  ],\n",
       "       [ -983.13934326, 14515.31933594, 13768.140625  ],\n",
       "       [ -866.41516113, 14540.1640625 , 13673.4765625 ]])"
      ]
     },
     "execution_count": 5,
     "metadata": {},
     "output_type": "execute_result"
    }
   ],
   "source": [
    "np.fliplr(read_tertiary_file(base_dir + pred_dir + 'T0859.tertiary'))"
   ]
  },
  {
   "cell_type": "code",
   "execution_count": 59,
   "metadata": {
    "ExecuteTime": {
     "end_time": "2019-07-19T11:29:54.952631Z",
     "start_time": "2019-07-19T11:29:54.945593Z"
    }
   },
   "outputs": [],
   "source": [
    "def read_and_decode(filename_queue):\n",
    "    \"\"\"Parse a single instance of a tf record.\n",
    "    \n",
    "    Args:\n",
    "        filename_queue: tf queue\n",
    "        \n",
    "    Returns:\n",
    "        id_:tf tensor\n",
    "        primary: tf tensor\n",
    "        tertiary: tf tensor\n",
    "        mask: tf tensor\n",
    "    \"\"\"\n",
    "\n",
    "    reader = tf.TFRecordReader()\n",
    "    _, serialized_example = reader.read(filename_queue)\n",
    "\n",
    "    context, features = tf.parse_single_sequence_example(\n",
    "        serialized_example,\n",
    "        context_features={'id': tf.FixedLenFeature((1, ), tf.string)},\n",
    "        sequence_features={\n",
    "            'primary': tf.FixedLenSequenceFeature((1, ), tf.int64),\n",
    "            'tertiary': tf.FixedLenSequenceFeature(\n",
    "                (NUM_DIMENSIONS, ),\n",
    "               tf.float32,\n",
    "               allow_missing=True),\n",
    "            'mask':tf.FixedLenSequenceFeature(\n",
    "                (1, ), \n",
    "                tf.float32, \n",
    "                allow_missing=True)\n",
    "        })\n",
    "\n",
    "    id_ = context['id'][0]\n",
    "    primary = tf.to_int32(features['primary'][:, 0])\n",
    "    tertiary = features['tertiary']\n",
    "    mask = features['mask'][:, 0]\n",
    "    return id_, primary, tertiary, mask"
   ]
  },
  {
   "cell_type": "code",
   "execution_count": 48,
   "metadata": {
    "ExecuteTime": {
     "end_time": "2019-07-19T11:11:59.316567Z",
     "start_time": "2019-07-19T11:11:59.306415Z"
    }
   },
   "outputs": [],
   "source": [
    "def tf_record_to_dict(tf_path, tertiary_dir):\n",
    "    \"\"\"Convert tfrecord to a list of Proteins.\n",
    "    \n",
    "    Args:\n",
    "        tf_path: path to tf record\n",
    "        tertiary_dir: directory that holds .tertiary files\n",
    "        \n",
    "    Returns:\n",
    "        list of Proteins\n",
    "    \"\"\"\n",
    "\n",
    "    tf.reset_default_graph()\n",
    "    with tf.Session() as sess:\n",
    "        proteins = []\n",
    "        init_op = tf.group(\n",
    "            tf.global_variables_initializer(),\n",
    "            tf.local_variables_initializer())\n",
    "        sess.run(init_op)\n",
    "\n",
    "        filename_queue = tf.train.string_input_producer(\n",
    "            [tf_path],\n",
    "            shuffle=False)\n",
    "\n",
    "        attributes = read_and_decode(filename_queue)\n",
    "        coord = tf.train.Coordinator()\n",
    "        threads = tf.train.start_queue_runners(coord=coord)\n",
    "\n",
    "        size = sum(1 for _ in tf.python_io.tf_record_iterator(tf_path))\n",
    "        for i in range(size):\n",
    "\n",
    "            id_, primary, tertiary, mask = sess.run(list(attributes))\n",
    "            id_ = id_.decode(\"utf-8\")\n",
    "            try:\n",
    "                pred_coords = read_tertiary_file(\n",
    "                    tertiary_dir + id_ + '.tertiary')\n",
    "            except (FileNotFoundError, OSError):\n",
    "                pred_coords = np.array([])\n",
    "            protein = Protein(id_, primary, tertiary, mask, pred_coords)\n",
    "            proteins.append(protein)\n",
    "        coord.request_stop()\n",
    "        coord.join(threads)\n",
    "\n",
    "        return proteins"
   ]
  },
  {
   "cell_type": "code",
   "execution_count": 49,
   "metadata": {
    "ExecuteTime": {
     "end_time": "2019-07-19T11:12:00.923812Z",
     "start_time": "2019-07-19T11:12:00.597533Z"
    }
   },
   "outputs": [],
   "source": [
    "proteins = tf_record_to_dict(base_dir + input_dir + '1', base_dir + pred_dir)"
   ]
  },
  {
   "cell_type": "code",
   "execution_count": 57,
   "metadata": {
    "ExecuteTime": {
     "end_time": "2019-07-19T11:22:06.519734Z",
     "start_time": "2019-07-19T11:22:06.506223Z"
    }
   },
   "outputs": [],
   "source": [
    "def create_pdb_file(protein, save_dir):\n",
    "    \"\"\"Create a PDB file from a Protein and return the structure.\n",
    "    \n",
    "    Args:\n",
    "        protein: Protein\n",
    "        save_dir: directory to save pdb files\n",
    "        \n",
    "    Returns:\n",
    "        None\n",
    "    \"\"\"\n",
    "\n",
    "    def create_structure(coords, pdb_type, remove_masked):\n",
    "        \"\"\"Create the structure.\n",
    "        \n",
    "        Args:\n",
    "            coords: 3D coordinates of structure\n",
    "            pdb_type: predict or actual structure\n",
    "            remove_masked: whether to include masked atoms. If false, the masked atoms \n",
    "                  have coordinates of [0,0,0].\n",
    "                  \n",
    "        Returns:\n",
    "            structure\n",
    "        \"\"\"\n",
    "        \n",
    "        name = protein.id_\n",
    "        structure = Structure(name)\n",
    "        model = Model(0)\n",
    "        chain = Chain('A')\n",
    "        for i, residue in enumerate(protein.primary):\n",
    "            residue = AA_LETTERS[residue]\n",
    "            if int(protein.mask[i]) == 1 or remove_masked == False:\n",
    "                new_residue = Residue((' ', i + 1, ' '), residue, '    ')\n",
    "                j = 3 * i\n",
    "                atom_list = ['N', 'CA', 'CB']\n",
    "                for k, atom in enumerate(atom_list):\n",
    "                    new_atom = Atom(\n",
    "                        name=atom,\n",
    "                        coord=coords[j + k, :],\n",
    "                        bfactor=0,\n",
    "                        occupancy=0,\n",
    "                        altloc=' ',\n",
    "                        fullname=\" {} \".format(atom),\n",
    "                        serial_number=0)\n",
    "                    new_residue.add(new_atom)\n",
    "                chain.add(new_residue)\n",
    "        model.add(chain)\n",
    "        structure.add(model)\n",
    "        io = PDBIO()\n",
    "        io.set_structure(structure)\n",
    "        io.save(save_dir + name + '_' + pdb_type + '.pdb')\n",
    "        return structure\n",
    "\n",
    "    coords = np.around(protein.actual_tertiary, 1)\n",
    "    structure = create_structure(coords, \"actual\", remove_masked=True)\n",
    "\n",
    "    if protein.pred_tertiary.size != 0:\n",
    "        coords = np.around(protein.pred_tertiary, 1)\n",
    "        structure = create_structure(coords, \"pred\", remove_masked=False)\n",
    "\n",
    "\n",
    "def create_pdb_files(proteins, save_dir):\n",
    "    \"\"\"Create multiple pdb files\n",
    "    \n",
    "    Args:\n",
    "        proteins: list of Proteins\n",
    "        save_dir: directory to save pdb files\n",
    "    \n",
    "    Returns:\n",
    "        None\n",
    "    \"\"\"\n",
    "\n",
    "    for protein in proteins:\n",
    "        create_pdb_file(protein, save_dir)"
   ]
  },
  {
   "cell_type": "code",
   "execution_count": 58,
   "metadata": {
    "ExecuteTime": {
     "end_time": "2019-07-19T11:22:10.242037Z",
     "start_time": "2019-07-19T11:22:07.545195Z"
    }
   },
   "outputs": [
    {
     "name": "stderr",
     "output_type": "stream",
     "text": [
      "/Library/Frameworks/Python.framework/Versions/3.7/lib/python3.7/site-packages/Bio/PDB/Atom.py:189: PDBConstructionWarning: Used element 'N' for Atom (name=N) with given element None\n",
      "  warnings.warn(msg, PDBConstructionWarning)\n",
      "/Library/Frameworks/Python.framework/Versions/3.7/lib/python3.7/site-packages/Bio/PDB/Atom.py:189: PDBConstructionWarning: Used element 'C' for Atom (name=CA) with given element None\n",
      "  warnings.warn(msg, PDBConstructionWarning)\n",
      "/Library/Frameworks/Python.framework/Versions/3.7/lib/python3.7/site-packages/Bio/PDB/Atom.py:189: PDBConstructionWarning: Used element 'C' for Atom (name=CB) with given element None\n",
      "  warnings.warn(msg, PDBConstructionWarning)\n"
     ]
    }
   ],
   "source": [
    "create_pdb_files(proteins, base_dir + \"d\")"
   ]
  },
  {
   "cell_type": "code",
   "execution_count": null,
   "metadata": {
    "ExecuteTime": {
     "end_time": "2019-07-19T03:49:47.061278Z",
     "start_time": "2019-07-19T03:49:47.053122Z"
    }
   },
   "outputs": [],
   "source": [
    "io = PDBIO()\n",
    "io.set_structure(structure)\n",
    "io.save(base_dir + \"test_out.pdb\")"
   ]
  },
  {
   "cell_type": "code",
   "execution_count": null,
   "metadata": {
    "ExecuteTime": {
     "end_time": "2019-07-19T04:03:03.762600Z",
     "start_time": "2019-07-19T04:03:03.719092Z"
    }
   },
   "outputs": [],
   "source": [
    "parser = PDBParser(PERMISSIVE=1)\n",
    "structure_id = \"3srp\"\n",
    "# filename = base_dir  + \"3srp.pdb\"\n",
    "filename = base_dir  + \"test_out.pdb\"\n",
    "structure = parser.get_structure(structure_id, filename)"
   ]
  },
  {
   "cell_type": "code",
   "execution_count": null,
   "metadata": {
    "ExecuteTime": {
     "end_time": "2019-07-19T04:03:09.291722Z",
     "start_time": "2019-07-19T04:03:09.284079Z"
    }
   },
   "outputs": [],
   "source": [
    "model = structure[0]\n",
    "chain = model['A']\n",
    "residue = chain[25]\n",
    "atom = residue['N']\n",
    "print(structure)\n",
    "print(model)\n",
    "print(chain)\n",
    "print(\"\\n\\n\\n\")\n",
    "\n",
    "print(residue)\n",
    "print(residue.id)\n",
    "print(residue.resname)\n",
    "print(residue.segid)\n",
    "print(list(residue.get_atoms()))\n",
    "print(atom)"
   ]
  },
  {
   "cell_type": "code",
   "execution_count": null,
   "metadata": {
    "ExecuteTime": {
     "end_time": "2019-07-19T04:03:10.350107Z",
     "start_time": "2019-07-19T04:03:10.344860Z"
    }
   },
   "outputs": [],
   "source": [
    "atom.coord"
   ]
  },
  {
   "cell_type": "code",
   "execution_count": null,
   "metadata": {
    "ExecuteTime": {
     "end_time": "2019-07-19T09:21:52.671680Z",
     "start_time": "2019-07-19T09:21:52.668361Z"
    }
   },
   "outputs": [],
   "source": [
    "test_out = np.transpose(np.array(all_numbers))#.shape"
   ]
  },
  {
   "cell_type": "code",
   "execution_count": null,
   "metadata": {
    "ExecuteTime": {
     "end_time": "2019-07-19T09:27:53.122785Z",
     "start_time": "2019-07-19T09:27:53.117242Z"
    }
   },
   "outputs": [],
   "source": [
    "test_coords"
   ]
  },
  {
   "cell_type": "code",
   "execution_count": 55,
   "metadata": {
    "ExecuteTime": {
     "end_time": "2019-07-19T11:21:03.322397Z",
     "start_time": "2019-07-19T11:21:03.317638Z"
    }
   },
   "outputs": [],
   "source": []
  },
  {
   "cell_type": "code",
   "execution_count": 63,
   "metadata": {
    "ExecuteTime": {
     "end_time": "2019-07-20T01:27:57.222095Z",
     "start_time": "2019-07-20T01:27:57.216615Z"
    }
   },
   "outputs": [
    {
     "data": {
      "text/plain": [
       "5.3"
      ]
     },
     "execution_count": 63,
     "metadata": {},
     "output_type": "execute_result"
    }
   ],
   "source": [
    "np.around(5.34534, 1)"
   ]
  },
  {
   "cell_type": "code",
   "execution_count": null,
   "metadata": {},
   "outputs": [],
   "source": []
  }
 ],
 "metadata": {
  "kernelspec": {
   "display_name": "Python 3",
   "language": "python",
   "name": "python3"
  },
  "language_info": {
   "codemirror_mode": {
    "name": "ipython",
    "version": 3
   },
   "file_extension": ".py",
   "mimetype": "text/x-python",
   "name": "python",
   "nbconvert_exporter": "python",
   "pygments_lexer": "ipython3",
   "version": "3.7.3"
  },
  "latex_envs": {
   "LaTeX_envs_menu_present": true,
   "autoclose": false,
   "autocomplete": true,
   "bibliofile": "biblio.bib",
   "cite_by": "apalike",
   "current_citInitial": 1,
   "eqLabelWithNumbers": true,
   "eqNumInitial": 1,
   "hotkeys": {
    "equation": "Ctrl-E",
    "itemize": "Ctrl-I"
   },
   "labels_anchors": false,
   "latex_user_defs": false,
   "report_style_numbering": false,
   "user_envs_cfg": false
  },
  "toc": {
   "base_numbering": 1,
   "nav_menu": {},
   "number_sections": true,
   "sideBar": true,
   "skip_h1_title": false,
   "title_cell": "Table of Contents",
   "title_sidebar": "Contents",
   "toc_cell": false,
   "toc_position": {},
   "toc_section_display": true,
   "toc_window_display": false
  },
  "varInspector": {
   "cols": {
    "lenName": 16,
    "lenType": 16,
    "lenVar": 40
   },
   "kernels_config": {
    "python": {
     "delete_cmd_postfix": "",
     "delete_cmd_prefix": "del ",
     "library": "var_list.py",
     "varRefreshCmd": "print(var_dic_list())"
    },
    "r": {
     "delete_cmd_postfix": ") ",
     "delete_cmd_prefix": "rm(",
     "library": "var_list.r",
     "varRefreshCmd": "cat(var_dic_list()) "
    }
   },
   "types_to_exclude": [
    "module",
    "function",
    "builtin_function_or_method",
    "instance",
    "_Feature"
   ],
   "window_display": false
  }
 },
 "nbformat": 4,
 "nbformat_minor": 2
}
